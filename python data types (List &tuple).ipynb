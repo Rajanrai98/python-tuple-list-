{
 "cells": [
  {
   "cell_type": "code",
   "execution_count": 1,
   "id": "038b4a38",
   "metadata": {},
   "outputs": [],
   "source": [
    "## List is the sequence data type , it is created by using a square brackets , it is immutable,it can containn different data types\n"
   ]
  },
  {
   "cell_type": "code",
   "execution_count": 3,
   "id": "b4a2bb0b",
   "metadata": {},
   "outputs": [
    {
     "name": "stdout",
     "output_type": "stream",
     "text": [
      "['apple', 'banana', 'cherry']\n"
     ]
    }
   ],
   "source": [
    "l = [\"apple\",\"banana\",'cherry']\n",
    "print(l)"
   ]
  },
  {
   "cell_type": "code",
   "execution_count": 4,
   "id": "31a64991",
   "metadata": {},
   "outputs": [
    {
     "name": "stdout",
     "output_type": "stream",
     "text": [
      "['apple', 'banana', 'cherry', True, 1, 2, 3]\n"
     ]
    }
   ],
   "source": [
    "l2 = [\"apple\",\"banana\",\"cherry\",True,1,2,3]\n",
    "print(l2)"
   ]
  },
  {
   "cell_type": "code",
   "execution_count": 5,
   "id": "9503b436",
   "metadata": {},
   "outputs": [
    {
     "name": "stdout",
     "output_type": "stream",
     "text": [
      "['cherry', True]\n"
     ]
    }
   ],
   "source": [
    "print(l2[2:4])"
   ]
  },
  {
   "cell_type": "code",
   "execution_count": 6,
   "id": "9e9c4635",
   "metadata": {},
   "outputs": [
    {
     "name": "stdout",
     "output_type": "stream",
     "text": [
      "['apple', 'banana', 'cherry', True, 1]\n"
     ]
    }
   ],
   "source": [
    "print(l2[:5])"
   ]
  },
  {
   "cell_type": "code",
   "execution_count": 8,
   "id": "f640bd48",
   "metadata": {},
   "outputs": [
    {
     "name": "stdout",
     "output_type": "stream",
     "text": [
      "['mango']\n"
     ]
    }
   ],
   "source": [
    "marks = [10,23,12,41,75]\n",
    "Fruits = [\"apple\",\"orange\",\"mango\",\"banana\"]\n",
    "\n",
    "print(Fruits[2:3])"
   ]
  },
  {
   "cell_type": "code",
   "execution_count": 9,
   "id": "bee45b6e",
   "metadata": {},
   "outputs": [
    {
     "name": "stdout",
     "output_type": "stream",
     "text": [
      "ormat\n"
     ]
    }
   ],
   "source": [
    "str1 = \"format\"\n",
    "print(str1[1:6])"
   ]
  },
  {
   "cell_type": "code",
   "execution_count": 10,
   "id": "75deb7ae",
   "metadata": {},
   "outputs": [
    {
     "name": "stdout",
     "output_type": "stream",
     "text": [
      "10\n"
     ]
    }
   ],
   "source": [
    "marks = [10,23,41,75]\n",
    "print(marks[0])"
   ]
  },
  {
   "cell_type": "code",
   "execution_count": 11,
   "id": "1d2f7ca0",
   "metadata": {},
   "outputs": [
    {
     "name": "stdout",
     "output_type": "stream",
     "text": [
      "75\n"
     ]
    }
   ],
   "source": [
    "marks = [10,23,41,75]\n",
    "print(marks[-1])"
   ]
  },
  {
   "cell_type": "code",
   "execution_count": 15,
   "id": "582836ae",
   "metadata": {},
   "outputs": [
    {
     "name": "stdout",
     "output_type": "stream",
     "text": [
      "10\t23\t41\t75\t"
     ]
    }
   ],
   "source": [
    "i = 0\n",
    "while i<4:\n",
    "    print(marks[i],end = '\\t')\n",
    "    i = i+1"
   ]
  },
  {
   "cell_type": "code",
   "execution_count": 19,
   "id": "3f1f107f",
   "metadata": {},
   "outputs": [
    {
     "name": "stdout",
     "output_type": "stream",
     "text": [
      "75\t60\t45\t79\t65\t71\t"
     ]
    }
   ],
   "source": [
    "marks = [75,60,45,79,65,71]\n",
    "i = 0\n",
    "while i<6:\n",
    "    print(marks[i],end = '\\t')\n",
    "    i = i+1\n",
    "    "
   ]
  },
  {
   "cell_type": "code",
   "execution_count": 20,
   "id": "5b10b711",
   "metadata": {},
   "outputs": [
    {
     "name": "stdout",
     "output_type": "stream",
     "text": [
      "71\n",
      "65\n",
      "79\n",
      "45\n"
     ]
    }
   ],
   "source": [
    "i = -1\n",
    "while i>=-4:\n",
    "    print(marks[i])\n",
    "    i = i+-1"
   ]
  },
  {
   "cell_type": "code",
   "execution_count": 29,
   "id": "f4fcfc5d",
   "metadata": {},
   "outputs": [
    {
     "data": {
      "text/plain": [
       "'apple'"
      ]
     },
     "execution_count": 29,
     "metadata": {},
     "output_type": "execute_result"
    }
   ],
   "source": [
    "\n",
    "l2 = [\"apple\",\"banana\",\"cherry\",1,3,1.2,True]\n",
    "l2[0]"
   ]
  },
  {
   "cell_type": "code",
   "execution_count": 30,
   "id": "398e05b7",
   "metadata": {},
   "outputs": [
    {
     "data": {
      "text/plain": [
       "0"
      ]
     },
     "execution_count": 30,
     "metadata": {},
     "output_type": "execute_result"
    }
   ],
   "source": [
    "l2.index(\"apple\")"
   ]
  },
  {
   "cell_type": "code",
   "execution_count": 31,
   "id": "9bcff15b",
   "metadata": {},
   "outputs": [
    {
     "data": {
      "text/plain": [
       "2"
      ]
     },
     "execution_count": 31,
     "metadata": {},
     "output_type": "execute_result"
    }
   ],
   "source": [
    "l2.index(\"cherry\")"
   ]
  },
  {
   "cell_type": "code",
   "execution_count": 32,
   "id": "bb7e4621",
   "metadata": {},
   "outputs": [
    {
     "data": {
      "text/plain": [
       "['kiwi', 'banana', 'cherry', 1, 3, 1.2, True]"
      ]
     },
     "execution_count": 32,
     "metadata": {},
     "output_type": "execute_result"
    }
   ],
   "source": [
    "l2[0] = \"kiwi\"\n",
    "l2"
   ]
  },
  {
   "cell_type": "code",
   "execution_count": 33,
   "id": "272d439f",
   "metadata": {},
   "outputs": [
    {
     "data": {
      "text/plain": [
       "['kiwi', 'abc', 'pqr', 1, 3, 1.2, True]"
      ]
     },
     "execution_count": 33,
     "metadata": {},
     "output_type": "execute_result"
    }
   ],
   "source": [
    "l2[1:3] = [\"abc\",\"pqr\"]\n",
    "l2"
   ]
  },
  {
   "cell_type": "code",
   "execution_count": 34,
   "id": "99e888ee",
   "metadata": {},
   "outputs": [
    {
     "data": {
      "text/plain": [
       "['kiwi', 'abc', 'pqr', 1, 3, 1.2, True, 11, 22]"
      ]
     },
     "execution_count": 34,
     "metadata": {},
     "output_type": "execute_result"
    }
   ],
   "source": [
    "l1 = [11,22]\n",
    "l3 = l2+l1\n",
    "l3"
   ]
  },
  {
   "cell_type": "code",
   "execution_count": 35,
   "id": "f720fe8b",
   "metadata": {},
   "outputs": [
    {
     "data": {
      "text/plain": [
       "['kiwi', 'abc', 'pqr', 1, 3, 1.2, True, 16]"
      ]
     },
     "execution_count": 35,
     "metadata": {},
     "output_type": "execute_result"
    }
   ],
   "source": [
    "l2.append(16)\n",
    "l2"
   ]
  },
  {
   "cell_type": "code",
   "execution_count": 37,
   "id": "2be2b29b",
   "metadata": {},
   "outputs": [
    {
     "data": {
      "text/plain": [
       "['kiwi', 'abc', 'pqr', 1, 3, 1.2, True, 16, ['v', 'f']]"
      ]
     },
     "execution_count": 37,
     "metadata": {},
     "output_type": "execute_result"
    }
   ],
   "source": [
    "l2.append([\"v\",\"f\"])\n",
    "l2"
   ]
  },
  {
   "cell_type": "code",
   "execution_count": 38,
   "id": "e6381dd8",
   "metadata": {},
   "outputs": [
    {
     "data": {
      "text/plain": [
       "['kiwi', 'abc', 'pqr', 1, 3, 1.2, True, 16]"
      ]
     },
     "execution_count": 38,
     "metadata": {},
     "output_type": "execute_result"
    }
   ],
   "source": [
    "l2[:8]"
   ]
  },
  {
   "cell_type": "code",
   "execution_count": 39,
   "id": "5bc71ee7",
   "metadata": {},
   "outputs": [
    {
     "data": {
      "text/plain": [
       "['v', 'f']"
      ]
     },
     "execution_count": 39,
     "metadata": {},
     "output_type": "execute_result"
    }
   ],
   "source": [
    "l2[8]"
   ]
  },
  {
   "cell_type": "code",
   "execution_count": 40,
   "id": "86fb4f77",
   "metadata": {},
   "outputs": [
    {
     "data": {
      "text/plain": [
       "['kiwi', 'abc', 'pqr', 1, 3, 1.2, True, 16, ['v', 'f'], 8, 9, 79]"
      ]
     },
     "execution_count": 40,
     "metadata": {},
     "output_type": "execute_result"
    }
   ],
   "source": [
    "l2.extend([8,9,79])\n",
    "l2"
   ]
  },
  {
   "cell_type": "code",
   "execution_count": 42,
   "id": "489af66a",
   "metadata": {},
   "outputs": [
    {
     "data": {
      "text/plain": [
       "['kiwi', 'abc', 'pqr', 1, 3, 1.2, True, 16, ['v', 'f'], 8, 9, 79, 1.4, 1.4]"
      ]
     },
     "execution_count": 42,
     "metadata": {},
     "output_type": "execute_result"
    }
   ],
   "source": [
    "l2.extend([1.40])\n",
    "l2"
   ]
  },
  {
   "cell_type": "code",
   "execution_count": 55,
   "id": "50d30148",
   "metadata": {},
   "outputs": [
    {
     "data": {
      "text/plain": [
       "['kiwi',\n",
       " 15,\n",
       " 'abc',\n",
       " 18,\n",
       " 18,\n",
       " 18,\n",
       " 'pqr',\n",
       " 3,\n",
       " 1.2,\n",
       " True,\n",
       " 16,\n",
       " ['v', 'f'],\n",
       " 8,\n",
       " 9,\n",
       " 79,\n",
       " 1.4,\n",
       " 1.4]"
      ]
     },
     "execution_count": 55,
     "metadata": {},
     "output_type": "execute_result"
    }
   ],
   "source": [
    "l2.insert(1,15)\n",
    "l2"
   ]
  },
  {
   "cell_type": "code",
   "execution_count": 56,
   "id": "85b33084",
   "metadata": {},
   "outputs": [
    {
     "name": "stdout",
     "output_type": "stream",
     "text": [
      "['kiwi', 15, 'abc', 18, 18, 18, 18, 'pqr', 3, 1.2, True, 16, ['v', 'f'], 8, 9, 79, 1.4, 1.4]\n"
     ]
    }
   ],
   "source": [
    "l2.insert(3,18)\n",
    "print(l2)"
   ]
  },
  {
   "cell_type": "code",
   "execution_count": 57,
   "id": "3c14ec05",
   "metadata": {},
   "outputs": [
    {
     "data": {
      "text/plain": [
       "'pqr'"
      ]
     },
     "execution_count": 57,
     "metadata": {},
     "output_type": "execute_result"
    }
   ],
   "source": [
    "l2[7]"
   ]
  },
  {
   "cell_type": "code",
   "execution_count": 58,
   "id": "f7341fc2",
   "metadata": {},
   "outputs": [
    {
     "data": {
      "text/plain": [
       "1"
      ]
     },
     "execution_count": 58,
     "metadata": {},
     "output_type": "execute_result"
    }
   ],
   "source": [
    "l2.index(15)"
   ]
  },
  {
   "cell_type": "code",
   "execution_count": 59,
   "id": "747fb6ba",
   "metadata": {},
   "outputs": [
    {
     "name": "stdout",
     "output_type": "stream",
     "text": [
      "['kiwi', 15, 'abc', 18, 18, 18, 18, 'pqr', 3, 1.2, 16, ['v', 'f'], 8, 9, 79, 1.4, 1.4]\n"
     ]
    }
   ],
   "source": [
    "l2.remove(1)\n",
    "print(l2)"
   ]
  },
  {
   "cell_type": "code",
   "execution_count": 60,
   "id": "b4bb1f72",
   "metadata": {},
   "outputs": [
    {
     "data": {
      "text/plain": [
       "4"
      ]
     },
     "execution_count": 60,
     "metadata": {},
     "output_type": "execute_result"
    }
   ],
   "source": [
    "l2.count(18) "
   ]
  },
  {
   "cell_type": "code",
   "execution_count": 61,
   "id": "9245cd9d",
   "metadata": {},
   "outputs": [
    {
     "name": "stdout",
     "output_type": "stream",
     "text": [
      "[1.4, 1.4, 79, 9, 8, ['v', 'f'], 16, 1.2, 3, 'pqr', 18, 18, 18, 18, 'abc', 15, 'kiwi']\n"
     ]
    }
   ],
   "source": [
    "l2.reverse()\n",
    "print(l2)"
   ]
  },
  {
   "cell_type": "code",
   "execution_count": 62,
   "id": "ea7fb458",
   "metadata": {},
   "outputs": [],
   "source": [
    "list1 = [1,5,3,8,90,33,45]\n",
    "list1.sort()"
   ]
  },
  {
   "cell_type": "code",
   "execution_count": 63,
   "id": "78d3fe77",
   "metadata": {},
   "outputs": [
    {
     "data": {
      "text/plain": [
       "[1, 3, 5, 8, 33, 45, 90]"
      ]
     },
     "execution_count": 63,
     "metadata": {},
     "output_type": "execute_result"
    }
   ],
   "source": [
    "list1"
   ]
  },
  {
   "cell_type": "code",
   "execution_count": 64,
   "id": "36eace86",
   "metadata": {},
   "outputs": [
    {
     "data": {
      "text/plain": [
       "5"
      ]
     },
     "execution_count": 64,
     "metadata": {},
     "output_type": "execute_result"
    }
   ],
   "source": [
    "list1 = \"hello\"\n",
    "len(list1)"
   ]
  },
  {
   "cell_type": "code",
   "execution_count": 65,
   "id": "94990871",
   "metadata": {},
   "outputs": [
    {
     "name": "stdout",
     "output_type": "stream",
     "text": [
      "12454\n"
     ]
    }
   ],
   "source": [
    "list2 = [2254,133,12454,123]\n",
    "print(max(list2))"
   ]
  },
  {
   "cell_type": "code",
   "execution_count": 66,
   "id": "9afffdd2",
   "metadata": {},
   "outputs": [
    {
     "name": "stdout",
     "output_type": "stream",
     "text": [
      "123\n"
     ]
    }
   ],
   "source": [
    "print(min(list2))"
   ]
  },
  {
   "cell_type": "code",
   "execution_count": 67,
   "id": "be16c92b",
   "metadata": {},
   "outputs": [
    {
     "name": "stdout",
     "output_type": "stream",
     "text": [
      "14964\n"
     ]
    }
   ],
   "source": [
    "print(sum(list2))"
   ]
  },
  {
   "cell_type": "code",
   "execution_count": 69,
   "id": "eeb08066",
   "metadata": {},
   "outputs": [
    {
     "name": "stdout",
     "output_type": "stream",
     "text": [
      "[2254, 133, 12454]\n"
     ]
    }
   ],
   "source": [
    "print(list2[:-1])"
   ]
  },
  {
   "cell_type": "code",
   "execution_count": 70,
   "id": "8df20a39",
   "metadata": {},
   "outputs": [
    {
     "name": "stdout",
     "output_type": "stream",
     "text": [
      "123\n"
     ]
    }
   ],
   "source": [
    "print(list2[-1])"
   ]
  },
  {
   "cell_type": "code",
   "execution_count": 71,
   "id": "375f3a31",
   "metadata": {},
   "outputs": [
    {
     "name": "stdout",
     "output_type": "stream",
     "text": [
      "n\n"
     ]
    }
   ],
   "source": [
    "names = [\"amir\",\"bear\",\"charlton\",\"daman\"]\n",
    "print(names[-1][-1])"
   ]
  },
  {
   "cell_type": "code",
   "execution_count": 79,
   "id": "f3c2cb52",
   "metadata": {},
   "outputs": [
    {
     "name": "stdout",
     "output_type": "stream",
     "text": [
      "['alice', 'Bear', 'Charlton', 'Daman']\n",
      "1\n",
      "['alice', 'Bear', 'Charlton', 'Daman']\n",
      "2\n",
      "['Amir', 'bob', 'Charlton', 'Daman']\n"
     ]
    }
   ],
   "source": [
    "names1 = [\"Amir\",\"Bear\",\"Charlton\",\"Daman\"]\n",
    "names2 = names1\n",
    "names3 = names1[:]\n",
    "names2[0] = \"alice\"\n",
    "names3[1] = 'bob'\n",
    "sum = 0\n",
    "for ls in (names1 , names2 , names3):\n",
    "    print(ls)\n",
    "    if ls[0] == 'alice':\n",
    "        sum +=1\n",
    "        if ls[1] == 'bob':\n",
    "            sum += 10\n",
    "        print(sum)"
   ]
  },
  {
   "cell_type": "code",
   "execution_count": 80,
   "id": "bf382013",
   "metadata": {},
   "outputs": [
    {
     "name": "stdout",
     "output_type": "stream",
     "text": [
      "[1, 5, 6, 5, 7, 89, 0]\n"
     ]
    }
   ],
   "source": [
    "my_list = [1,5,6,7,89,0]\n",
    "my_list.insert(3,5)\n",
    "print(my_list)"
   ]
  },
  {
   "cell_type": "code",
   "execution_count": 81,
   "id": "3e1d8818",
   "metadata": {},
   "outputs": [
    {
     "name": "stdout",
     "output_type": "stream",
     "text": [
      "False\n"
     ]
    }
   ],
   "source": [
    "list_1 = [11,2,23]\n",
    "list_2 = [11,2,2]\n",
    "print(list_1<list_2)"
   ]
  },
  {
   "cell_type": "code",
   "execution_count": 85,
   "id": "a9ea8c4d",
   "metadata": {},
   "outputs": [
    {
     "name": "stdout",
     "output_type": "stream",
     "text": [
      "[1, 5, 6, 5, 7, 89, 0, [5], [5], 5]\n"
     ]
    }
   ],
   "source": [
    "\n",
    "## append function is used to add new item into the list\n",
    "\n",
    "my_list.append(5)\n",
    "print(my_list)"
   ]
  },
  {
   "cell_type": "code",
   "execution_count": 86,
   "id": "e5b94f75",
   "metadata": {},
   "outputs": [],
   "source": [
    "## Tuple are used to store multiple items in a single variable , tuple is one of the 4 in built data type in python to store collection of the data\n",
    "# tuple is the collection which is ordered and unchangeable\n",
    "# tuples are written with round brackets"
   ]
  },
  {
   "cell_type": "code",
   "execution_count": 87,
   "id": "388fa25e",
   "metadata": {},
   "outputs": [
    {
     "name": "stdout",
     "output_type": "stream",
     "text": [
      "('apple', 'banana', 'cherry')\n"
     ]
    }
   ],
   "source": [
    "tup = (\"apple\",\"banana\",\"cherry\")\n",
    "print(tup)"
   ]
  },
  {
   "cell_type": "code",
   "execution_count": 88,
   "id": "2ec7642f",
   "metadata": {},
   "outputs": [
    {
     "name": "stdout",
     "output_type": "stream",
     "text": [
      "('apple', 'banana', 'cherry', 'apple', 'cherry')\n"
     ]
    }
   ],
   "source": [
    "tup = (\"apple\",\"banana\",\"cherry\",\"apple\",\"cherry\")\n",
    "print(tup)"
   ]
  },
  {
   "cell_type": "code",
   "execution_count": 89,
   "id": "132cd9bf",
   "metadata": {},
   "outputs": [],
   "source": [
    "tup = (\"apple\",\"banana\",\"cherry\",\"apple\",\"cherry\")\n",
    "tup1 = (2,3,5,6,7,10)\n",
    "tup2 = (True,False,True,False,False)"
   ]
  },
  {
   "cell_type": "code",
   "execution_count": 90,
   "id": "637f8b84",
   "metadata": {},
   "outputs": [],
   "source": [
    "## set is a collection which is unordered,unchangeable,and unindexed\n",
    "## Dictionary is a collection which is ordered and changeable no duplicate members"
   ]
  },
  {
   "cell_type": "code",
   "execution_count": 91,
   "id": "fa889d5d",
   "metadata": {},
   "outputs": [
    {
     "data": {
      "text/plain": [
       "('apple', 'banana', 'cherry', 'apple', 'cherry', 'mango', 'orange', 'grapes')"
      ]
     },
     "execution_count": 91,
     "metadata": {},
     "output_type": "execute_result"
    }
   ],
   "source": [
    "tup = (\"apple\",\"banana\",\"cherry\",\"apple\",\"cherry\" , \"mango\",\"orange\",\"grapes\")\n",
    "l4 = list(tup)\n",
    "l4[1] = \"niks\"\n",
    "tup"
   ]
  },
  {
   "cell_type": "code",
   "execution_count": 92,
   "id": "4fa16ac9",
   "metadata": {},
   "outputs": [
    {
     "data": {
      "text/plain": [
       "['apple', 'niks', 'cherry', 'apple', 'cherry', 'mango', 'orange', 'grapes']"
      ]
     },
     "execution_count": 92,
     "metadata": {},
     "output_type": "execute_result"
    }
   ],
   "source": [
    "l4"
   ]
  },
  {
   "cell_type": "code",
   "execution_count": 93,
   "id": "c2128c27",
   "metadata": {},
   "outputs": [
    {
     "name": "stdout",
     "output_type": "stream",
     "text": [
      "('apple', 'niks', 'cherry', 'apple', 'cherry', 'mango', 'orange', 'grapes')\n"
     ]
    }
   ],
   "source": [
    "tup1 = tuple(l4)\n",
    "print(tup1)"
   ]
  },
  {
   "cell_type": "code",
   "execution_count": 95,
   "id": "b69a77c3",
   "metadata": {},
   "outputs": [
    {
     "name": "stdout",
     "output_type": "stream",
     "text": [
      "('apple', 'niks', 'cherry', 'apple')\n"
     ]
    }
   ],
   "source": [
    "print(tup1[:-4])"
   ]
  },
  {
   "cell_type": "code",
   "execution_count": 96,
   "id": "66050883",
   "metadata": {},
   "outputs": [
    {
     "name": "stdout",
     "output_type": "stream",
     "text": [
      "('niks', 'cherry', 'apple', 'cherry', 'mango', 'orange', 'grapes')\n"
     ]
    }
   ],
   "source": [
    "print(tup1[1:8])"
   ]
  },
  {
   "cell_type": "code",
   "execution_count": 98,
   "id": "a051dabe",
   "metadata": {},
   "outputs": [
    {
     "name": "stdout",
     "output_type": "stream",
     "text": [
      "('apple', 'niks', 'cherry', 'apple', 'cherry', 'mango', 'orange', 'grapes', '1111')\n"
     ]
    }
   ],
   "source": [
    "tup5 = (\"1111\",)\n",
    "tup = tup1+tup5\n",
    "print(tup)"
   ]
  },
  {
   "cell_type": "code",
   "execution_count": 100,
   "id": "5c50a383",
   "metadata": {},
   "outputs": [
    {
     "name": "stdout",
     "output_type": "stream",
     "text": [
      "('1243', 'apple', 'niks', 'cherry', 'apple', 'cherry', 'mango', 'orange', 'grapes', '1111')\n"
     ]
    }
   ],
   "source": [
    "tu = (\"1243\",)\n",
    "t = tu+tup\n",
    "\n",
    "print(t)"
   ]
  },
  {
   "cell_type": "code",
   "execution_count": 101,
   "id": "c34c7cf7",
   "metadata": {},
   "outputs": [
    {
     "data": {
      "text/plain": [
       "('apple', 'niks', 'cherry', 'apple', 'cherry', 'mango', 'orange', 'grapes')"
      ]
     },
     "execution_count": 101,
     "metadata": {},
     "output_type": "execute_result"
    }
   ],
   "source": [
    "tup1"
   ]
  },
  {
   "cell_type": "code",
   "execution_count": 102,
   "id": "f7859838",
   "metadata": {},
   "outputs": [
    {
     "name": "stdout",
     "output_type": "stream",
     "text": [
      "apple\n",
      "niks\n",
      "cherry\n",
      "apple\n",
      "cherry\n",
      "mango\n",
      "orange\n",
      "grapes\n"
     ]
    }
   ],
   "source": [
    "tup1 = ('apple', 'niks', 'cherry', 'apple', 'cherry', 'mango', 'orange', 'grapes')\n",
    "for x in tup1:\n",
    "    print(x)"
   ]
  },
  {
   "cell_type": "code",
   "execution_count": 104,
   "id": "65cd0a8f",
   "metadata": {},
   "outputs": [
    {
     "name": "stdout",
     "output_type": "stream",
     "text": [
      "0\n",
      "1\n",
      "2\n",
      "3\n",
      "4\n",
      "5\n",
      "6\n",
      "7\n"
     ]
    }
   ],
   "source": [
    "tup1 = ('apple', 'niks', 'cherry', 'apple', 'cherry', 'mango', 'orange', 'grapes')\n",
    "for i in range(len(tup1)):\n",
    "    print(i)"
   ]
  },
  {
   "cell_type": "code",
   "execution_count": 105,
   "id": "5c47ec8e",
   "metadata": {},
   "outputs": [
    {
     "name": "stdout",
     "output_type": "stream",
     "text": [
      "('a', 'b', 'c', 1, 2, 3)\n"
     ]
    }
   ],
   "source": [
    "tuple1 = (\"a\",\"b\",\"c\")\n",
    "tuple2 = (1,2,3)\n",
    "tuple3 = tuple1+tuple2\n",
    "print(tuple3)"
   ]
  },
  {
   "cell_type": "code",
   "execution_count": 106,
   "id": "3d78e88c",
   "metadata": {},
   "outputs": [
    {
     "name": "stdout",
     "output_type": "stream",
     "text": [
      "('apple', 'banana', 'cherry', 'apple', 'banana', 'cherry')\n"
     ]
    }
   ],
   "source": [
    "fruits = (\"apple\",\"banana\",\"cherry\")\n",
    "mytuple = fruits*2\n",
    "print(mytuple)"
   ]
  },
  {
   "cell_type": "code",
   "execution_count": 108,
   "id": "32985112",
   "metadata": {},
   "outputs": [
    {
     "name": "stdout",
     "output_type": "stream",
     "text": [
      "1\n"
     ]
    }
   ],
   "source": [
    "t = (1,6,3,4,7,8,2,9,16)\n",
    "x = t.count(3)\n",
    "print(x)"
   ]
  },
  {
   "cell_type": "code",
   "execution_count": 109,
   "id": "dc34b67f",
   "metadata": {},
   "outputs": [
    {
     "name": "stdout",
     "output_type": "stream",
     "text": [
      "3\n"
     ]
    }
   ],
   "source": [
    "x = t.index(4)\n",
    "print(x)"
   ]
  },
  {
   "cell_type": "code",
   "execution_count": 120,
   "id": "39209fcb",
   "metadata": {},
   "outputs": [
    {
     "name": "stdout",
     "output_type": "stream",
     "text": [
      "copied element: [44]\n",
      "copied element: [44, 55]\n"
     ]
    }
   ],
   "source": [
    "tuple1 = (11,22,33,44,55,66)\n",
    "copied_element = []\n",
    "\n",
    "for element in tuple1:\n",
    "    if element == 44 or element == 55:\n",
    "        copied_element.append(element)\n",
    "        print(\"copied element:\",copied_element)"
   ]
  },
  {
   "cell_type": "code",
   "execution_count": 121,
   "id": "dcf499df",
   "metadata": {},
   "outputs": [
    {
     "name": "stdout",
     "output_type": "stream",
     "text": [
      "<class 'tuple'>\n"
     ]
    }
   ],
   "source": [
    "t1 = 4,5,6\n",
    "print(type(t1))"
   ]
  },
  {
   "cell_type": "code",
   "execution_count": 123,
   "id": "8cbf7dbc",
   "metadata": {},
   "outputs": [
    {
     "name": "stdout",
     "output_type": "stream",
     "text": [
      "(1, 2, 3, 4, 5, 6, 7, 8)\n",
      "(1, 2, 3, 4, 5, 6, 7, 8, 1, 2, 3, 4, 5, 6, 7, 8)\n",
      "(1, 2, 3, 4, 5, 6, 7, 8, 1, 2, 3, 4, 5, 6, 7, 8)\n",
      "16\n"
     ]
    }
   ],
   "source": [
    "t1 = (1,2,3,4,5,6,7,8)\n",
    "print(t1)\n",
    "print(t1*2)\n",
    "print(t1+t1)\n",
    "print(len(t1)*2)"
   ]
  },
  {
   "cell_type": "code",
   "execution_count": 124,
   "id": "5f9ff0cb",
   "metadata": {},
   "outputs": [
    {
     "name": "stdout",
     "output_type": "stream",
     "text": [
      "1\n",
      "8\n",
      "6\n",
      "4\n",
      "2\n"
     ]
    }
   ],
   "source": [
    "t1 = (1,2,3,4,5,6,7,8)\n",
    "print(t1[0])\n",
    "print(t1[-1])\n",
    "print(t1[2+3])\n",
    "print(t1[4-1])\n",
    "print(t1[7%2])"
   ]
  },
  {
   "cell_type": "code",
   "execution_count": 125,
   "id": "7d400ea0",
   "metadata": {},
   "outputs": [
    {
     "name": "stdout",
     "output_type": "stream",
     "text": [
      "{1, 2, 3, 4}\n"
     ]
    }
   ],
   "source": [
    "s = {1,2,3,4}\n",
    "print(s)"
   ]
  },
  {
   "cell_type": "code",
   "execution_count": 126,
   "id": "2664ed67",
   "metadata": {},
   "outputs": [
    {
     "name": "stdout",
     "output_type": "stream",
     "text": [
      "{1, 2, 3, 4, 5}\n"
     ]
    }
   ],
   "source": [
    "s = {1,2,3,4,5,True}\n",
    "print(s)"
   ]
  },
  {
   "cell_type": "code",
   "execution_count": 127,
   "id": "7c10aa5e",
   "metadata": {},
   "outputs": [
    {
     "name": "stdout",
     "output_type": "stream",
     "text": [
      "{1, 2, 3, 4, 'mango', 12.6, 'apple'}\n"
     ]
    }
   ],
   "source": [
    "s = {1,2,3,4,\"apple\",\"mango\",12.6,True}\n",
    "print(s)"
   ]
  },
  {
   "cell_type": "code",
   "execution_count": 128,
   "id": "33d97439",
   "metadata": {},
   "outputs": [
    {
     "name": "stdout",
     "output_type": "stream",
     "text": [
      "1\n",
      "2\n",
      "3\n",
      "4\n",
      "mango\n",
      "12.6\n",
      "apple\n"
     ]
    }
   ],
   "source": [
    "for i in s:\n",
    "    print(i)"
   ]
  },
  {
   "cell_type": "code",
   "execution_count": 129,
   "id": "e3891702",
   "metadata": {},
   "outputs": [
    {
     "name": "stdout",
     "output_type": "stream",
     "text": [
      "{True, 2, 3, 4, 'mango', 12.6, 'apple'}\n"
     ]
    }
   ],
   "source": [
    "s = {True,2,3,4,\"apple\",\"mango\",12.6,1}\n",
    "print(s)"
   ]
  },
  {
   "cell_type": "code",
   "execution_count": 130,
   "id": "de2d2baf",
   "metadata": {},
   "outputs": [
    {
     "name": "stdout",
     "output_type": "stream",
     "text": [
      "True\n",
      "2\n",
      "3\n",
      "4\n",
      "mango\n",
      "12.6\n",
      "apple\n"
     ]
    }
   ],
   "source": [
    "for i in s:\n",
    "    print(i)"
   ]
  },
  {
   "cell_type": "code",
   "execution_count": 131,
   "id": "24f60777",
   "metadata": {},
   "outputs": [
    {
     "name": "stdout",
     "output_type": "stream",
     "text": [
      "{'shyam', 'hanuman', 'laxman', 'bharat', 'ram'}\n"
     ]
    }
   ],
   "source": [
    "s1 = {\"ram\",\"shyam\",\"bharat\",\"laxman\",\"hanuman\"}\n",
    "print(s1)"
   ]
  },
  {
   "cell_type": "code",
   "execution_count": 132,
   "id": "06b476d0",
   "metadata": {},
   "outputs": [
    {
     "name": "stdout",
     "output_type": "stream",
     "text": [
      "True\n"
     ]
    }
   ],
   "source": [
    "print(\"ram\" in s1)"
   ]
  },
  {
   "cell_type": "code",
   "execution_count": 133,
   "id": "c87a88b4",
   "metadata": {},
   "outputs": [
    {
     "name": "stdout",
     "output_type": "stream",
     "text": [
      "False\n"
     ]
    }
   ],
   "source": [
    "print(\"ram1\" in s1)"
   ]
  },
  {
   "cell_type": "code",
   "execution_count": 134,
   "id": "29c74ada",
   "metadata": {},
   "outputs": [
    {
     "data": {
      "text/plain": [
       "{1, 12.6, 2, 3, 4, 5, 'Nik', 'apple', 'meera', 'ram', 'shyam', 'sita'}"
      ]
     },
     "execution_count": 134,
     "metadata": {},
     "output_type": "execute_result"
    }
   ],
   "source": [
    "s = {1,2,3,4,5,\"Nik\",\"apple\",12.6}\n",
    "s1 = {\"ram\",\"sita\",\"shyam\",\"meera\"}\n",
    "s.update(s1)\n",
    "s"
   ]
  },
  {
   "cell_type": "code",
   "execution_count": null,
   "id": "e0441b77",
   "metadata": {},
   "outputs": [],
   "source": []
  }
 ],
 "metadata": {
  "kernelspec": {
   "display_name": "Python 3 (ipykernel)",
   "language": "python",
   "name": "python3"
  },
  "language_info": {
   "codemirror_mode": {
    "name": "ipython",
    "version": 3
   },
   "file_extension": ".py",
   "mimetype": "text/x-python",
   "name": "python",
   "nbconvert_exporter": "python",
   "pygments_lexer": "ipython3",
   "version": "3.10.9"
  }
 },
 "nbformat": 4,
 "nbformat_minor": 5
}
